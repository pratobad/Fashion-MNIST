{
 "cells": [
  {
   "cell_type": "code",
   "execution_count": 1,
   "id": "8a69479a",
   "metadata": {},
   "outputs": [],
   "source": [
    "import tensorflow as tf\n",
    "from tensorflow import keras\n",
    "import numpy as np\n",
    "import matplotlib.pyplot as plt"
   ]
  },
  {
   "cell_type": "code",
   "execution_count": 2,
   "id": "7189027b",
   "metadata": {},
   "outputs": [
    {
     "name": "stdout",
     "output_type": "stream",
     "text": [
      "Downloading data from https://storage.googleapis.com/tensorflow/tf-keras-datasets/train-labels-idx1-ubyte.gz\n",
      "32768/29515 [=================================] - 0s 2us/step\n",
      "40960/29515 [=========================================] - 0s 2us/step\n",
      "Downloading data from https://storage.googleapis.com/tensorflow/tf-keras-datasets/train-images-idx3-ubyte.gz\n",
      "26427392/26421880 [==============================] - 51s 2us/step\n",
      "26435584/26421880 [==============================] - 51s 2us/step\n",
      "Downloading data from https://storage.googleapis.com/tensorflow/tf-keras-datasets/t10k-labels-idx1-ubyte.gz\n",
      "16384/5148 [===============================================================================================] - 0s 0s/step\n",
      "Downloading data from https://storage.googleapis.com/tensorflow/tf-keras-datasets/t10k-images-idx3-ubyte.gz\n",
      "4423680/4422102 [==============================] - 15s 3us/step\n",
      "4431872/4422102 [==============================] - 15s 3us/step\n"
     ]
    }
   ],
   "source": [
    "fashion = keras.datasets.fashion_mnist\n",
    "(xtrain, ytrain), (xtest, ytest) = fashion.load_data()"
   ]
  },
  {
   "cell_type": "code",
   "execution_count": 6,
   "id": "1c8cf1ad",
   "metadata": {},
   "outputs": [
    {
     "name": "stdout",
     "output_type": "stream",
     "text": [
      "Image Label : 6\n"
     ]
    },
    {
     "data": {
      "text/plain": [
       "<matplotlib.image.AxesImage at 0x226baa9c6a0>"
      ]
     },
     "execution_count": 6,
     "metadata": {},
     "output_type": "execute_result"
    },
    {
     "data": {
      "image/png": "[encoded data removed]",
      "text/plain": [
       "<Figure size 432x288 with 1 Axes>"
      ]
     },
     "metadata": {
      "needs_background": "light"
     },
     "output_type": "display_data"
    }
   ],
   "source": [
    "imgIndex = 18\n",
    "image = xtrain[imgIndex]\n",
    "print(\"Image Label :\",ytrain[imgIndex])\n",
    "plt.imshow(image)"
   ]
  },
  {
   "cell_type": "code",
   "execution_count": 7,
   "id": "bee5b165",
   "metadata": {},
   "outputs": [
    {
     "name": "stdout",
     "output_type": "stream",
     "text": [
      "(60000, 28, 28)\n",
      "(10000, 28, 28)\n"
     ]
    }
   ],
   "source": [
    "print(xtrain.shape)\n",
    "print(xtest.shape)"
   ]
  },
  {
   "cell_type": "code",
   "execution_count": 14,
   "id": "4cdf3100",
   "metadata": {},
   "outputs": [
    {
     "name": "stdout",
     "output_type": "stream",
     "text": [
      "Model: \"sequential_1\"\n",
      "_________________________________________________________________\n",
      " Layer (type)                Output Shape              Param #   \n",
      "=================================================================\n",
      " flatten_1 (Flatten)         (None, 784)               0         \n",
      "                                                                 \n",
      " dense_3 (Dense)             (None, 300)               235500    \n",
      "                                                                 \n",
      " dense_4 (Dense)             (None, 100)               30100     \n",
      "                                                                 \n",
      " dense_5 (Dense)             (None, 10)                1010      \n",
      "                                                                 \n",
      "=================================================================\n",
      "Total params: 266,610\n",
      "Trainable params: 266,610\n",
      "Non-trainable params: 0\n",
      "_________________________________________________________________\n",
      "None\n"
     ]
    }
   ],
   "source": [
    "model = keras.models.Sequential([\n",
    "    keras.layers.Flatten(input_shape=[28, 28]),\n",
    "    keras.layers.Dense(300, activation=\"relu\"),\n",
    "    keras.layers.Dense(100, activation=\"relu\"),\n",
    "    keras.layers.Dense(10, activation=\"softmax\")\n",
    "])\n",
    "print(model.summary())"
   ]
  },
  {
   "cell_type": "code",
   "execution_count": 15,
   "id": "7ac6cd26",
   "metadata": {},
   "outputs": [],
   "source": [
    "xvalid, xtrain = xtrain[:5000]/255.0, xtrain[5000:]/255.0\n",
    "yvalid, ytrain = ytrain[:5000], ytrain[5000:]"
   ]
  },
  {
   "cell_type": "code",
   "execution_count": 17,
   "id": "74a73317",
   "metadata": {},
   "outputs": [
    {
     "name": "stdout",
     "output_type": "stream",
     "text": [
      "Epoch 1/50\n",
      "1563/1563 [==============================] - 2s 1ms/step - loss: 1.0721 - accuracy: 0.5793 - val_loss: 1.1331 - val_accuracy: 0.5670\n",
      "Epoch 2/50\n",
      "1563/1563 [==============================] - 2s 1ms/step - loss: 1.0561 - accuracy: 0.5876 - val_loss: 1.1353 - val_accuracy: 0.5566\n",
      "Epoch 3/50\n",
      "1563/1563 [==============================] - 2s 1ms/step - loss: 1.0460 - accuracy: 0.5895 - val_loss: 1.4085 - val_accuracy: 0.4004\n",
      "Epoch 4/50\n",
      "1563/1563 [==============================] - 2s 1ms/step - loss: 1.0345 - accuracy: 0.5932 - val_loss: 1.0123 - val_accuracy: 0.6064\n",
      "Epoch 5/50\n",
      "1563/1563 [==============================] - 2s 1ms/step - loss: 1.0226 - accuracy: 0.5965 - val_loss: 1.0165 - val_accuracy: 0.6120\n",
      "Epoch 6/50\n",
      "1563/1563 [==============================] - 2s 1ms/step - loss: 1.0130 - accuracy: 0.6025 - val_loss: 0.9723 - val_accuracy: 0.6212\n",
      "Epoch 7/50\n",
      "1563/1563 [==============================] - 2s 1ms/step - loss: 0.9988 - accuracy: 0.6061 - val_loss: 0.9895 - val_accuracy: 0.5924\n",
      "Epoch 8/50\n",
      "1563/1563 [==============================] - 2s 1ms/step - loss: 0.9948 - accuracy: 0.6099 - val_loss: 0.9784 - val_accuracy: 0.6198\n",
      "Epoch 9/50\n",
      "1563/1563 [==============================] - 2s 1ms/step - loss: 0.9828 - accuracy: 0.6130 - val_loss: 0.9677 - val_accuracy: 0.6198\n",
      "Epoch 10/50\n",
      "1563/1563 [==============================] - 2s 1ms/step - loss: 0.9745 - accuracy: 0.6174 - val_loss: 0.9587 - val_accuracy: 0.6010\n",
      "Epoch 11/50\n",
      "1563/1563 [==============================] - 2s 1ms/step - loss: 0.9692 - accuracy: 0.6176 - val_loss: 0.9618 - val_accuracy: 0.6112\n",
      "Epoch 12/50\n",
      "1563/1563 [==============================] - 2s 1ms/step - loss: 0.9585 - accuracy: 0.6207 - val_loss: 1.0712 - val_accuracy: 0.5596\n",
      "Epoch 13/50\n",
      "1563/1563 [==============================] - 2s 1ms/step - loss: 0.9591 - accuracy: 0.6223 - val_loss: 0.9541 - val_accuracy: 0.6028\n",
      "Epoch 14/50\n",
      "1563/1563 [==============================] - 2s 1ms/step - loss: 0.9473 - accuracy: 0.6287 - val_loss: 0.9868 - val_accuracy: 0.5912\n",
      "Epoch 15/50\n",
      "1563/1563 [==============================] - 2s 1ms/step - loss: 0.9423 - accuracy: 0.6316 - val_loss: 0.9730 - val_accuracy: 0.5992\n",
      "Epoch 16/50\n",
      "1563/1563 [==============================] - 2s 1ms/step - loss: 0.9352 - accuracy: 0.6347 - val_loss: 0.9182 - val_accuracy: 0.6434\n",
      "Epoch 17/50\n",
      "1563/1563 [==============================] - 2s 1ms/step - loss: 0.9322 - accuracy: 0.6381 - val_loss: 0.9866 - val_accuracy: 0.6286\n",
      "Epoch 18/50\n",
      "1563/1563 [==============================] - 2s 1ms/step - loss: 0.9271 - accuracy: 0.6410 - val_loss: 1.0733 - val_accuracy: 0.5382\n",
      "Epoch 19/50\n",
      "1563/1563 [==============================] - 2s 1ms/step - loss: 0.9191 - accuracy: 0.6454 - val_loss: 0.8836 - val_accuracy: 0.6534\n",
      "Epoch 20/50\n",
      "1563/1563 [==============================] - 2s 1ms/step - loss: 0.9129 - accuracy: 0.6488 - val_loss: 0.8801 - val_accuracy: 0.6552\n",
      "Epoch 21/50\n",
      "1563/1563 [==============================] - 2s 1ms/step - loss: 0.9098 - accuracy: 0.6525 - val_loss: 0.9331 - val_accuracy: 0.6512\n",
      "Epoch 22/50\n",
      "1563/1563 [==============================] - 2s 1ms/step - loss: 0.8993 - accuracy: 0.6567 - val_loss: 0.8808 - val_accuracy: 0.6496\n",
      "Epoch 23/50\n",
      "1563/1563 [==============================] - 2s 1ms/step - loss: 0.8963 - accuracy: 0.6610 - val_loss: 0.9423 - val_accuracy: 0.6498\n",
      "Epoch 24/50\n",
      "1563/1563 [==============================] - 2s 1ms/step - loss: 0.8901 - accuracy: 0.6659 - val_loss: 0.8810 - val_accuracy: 0.6652\n",
      "Epoch 25/50\n",
      "1563/1563 [==============================] - 2s 1ms/step - loss: 0.8856 - accuracy: 0.6671 - val_loss: 0.8704 - val_accuracy: 0.6738\n",
      "Epoch 26/50\n",
      "1563/1563 [==============================] - 2s 1ms/step - loss: 0.8768 - accuracy: 0.6733 - val_loss: 0.8844 - val_accuracy: 0.6820\n",
      "Epoch 27/50\n",
      "1563/1563 [==============================] - 2s 1ms/step - loss: 0.8641 - accuracy: 0.6769 - val_loss: 0.8385 - val_accuracy: 0.6886\n",
      "Epoch 28/50\n",
      "1563/1563 [==============================] - 2s 1ms/step - loss: 0.8606 - accuracy: 0.6796 - val_loss: 0.8487 - val_accuracy: 0.6610\n",
      "Epoch 29/50\n",
      "1563/1563 [==============================] - 2s 1ms/step - loss: 0.8581 - accuracy: 0.6799 - val_loss: 0.8337 - val_accuracy: 0.6858\n",
      "Epoch 30/50\n",
      "1563/1563 [==============================] - 2s 1ms/step - loss: 0.8490 - accuracy: 0.6865 - val_loss: 0.8947 - val_accuracy: 0.6638\n",
      "Epoch 31/50\n",
      "1563/1563 [==============================] - 2s 1ms/step - loss: 0.8386 - accuracy: 0.6906 - val_loss: 0.8100 - val_accuracy: 0.7038\n",
      "Epoch 32/50\n",
      "1563/1563 [==============================] - 2s 1ms/step - loss: 0.8340 - accuracy: 0.6932 - val_loss: 0.8322 - val_accuracy: 0.6814\n",
      "Epoch 33/50\n",
      "1563/1563 [==============================] - 2s 1ms/step - loss: 0.8304 - accuracy: 0.6947 - val_loss: 0.7970 - val_accuracy: 0.7014\n",
      "Epoch 34/50\n",
      "1563/1563 [==============================] - 2s 1ms/step - loss: 0.8189 - accuracy: 0.6994 - val_loss: 0.8257 - val_accuracy: 0.6904\n",
      "Epoch 35/50\n",
      "1563/1563 [==============================] - 2s 1ms/step - loss: 0.8133 - accuracy: 0.6991 - val_loss: 1.4328 - val_accuracy: 0.4710\n",
      "Epoch 36/50\n",
      "1563/1563 [==============================] - 2s 1ms/step - loss: 0.8048 - accuracy: 0.7009 - val_loss: 0.8580 - val_accuracy: 0.6682\n",
      "Epoch 37/50\n",
      "1563/1563 [==============================] - 2s 1ms/step - loss: 0.8012 - accuracy: 0.7034 - val_loss: 1.1569 - val_accuracy: 0.5672\n",
      "Epoch 38/50\n",
      "1563/1563 [==============================] - 2s 1ms/step - loss: 0.7959 - accuracy: 0.7054 - val_loss: 0.7969 - val_accuracy: 0.6936\n",
      "Epoch 39/50\n",
      "1563/1563 [==============================] - 2s 1ms/step - loss: 0.7880 - accuracy: 0.7084 - val_loss: 1.0056 - val_accuracy: 0.6116\n",
      "Epoch 40/50\n",
      "1563/1563 [==============================] - 2s 1ms/step - loss: 0.7823 - accuracy: 0.7079 - val_loss: 0.8522 - val_accuracy: 0.6782\n",
      "Epoch 41/50\n",
      "1563/1563 [==============================] - 2s 1ms/step - loss: 0.7745 - accuracy: 0.7125 - val_loss: 0.9130 - val_accuracy: 0.6684\n",
      "Epoch 42/50\n",
      "1563/1563 [==============================] - 2s 1ms/step - loss: 0.7742 - accuracy: 0.7124 - val_loss: 1.0457 - val_accuracy: 0.5728\n",
      "Epoch 43/50\n",
      "1563/1563 [==============================] - 2s 1ms/step - loss: 0.7661 - accuracy: 0.7132 - val_loss: 0.8259 - val_accuracy: 0.6750\n",
      "Epoch 44/50\n",
      "1563/1563 [==============================] - 2s 1ms/step - loss: 0.7656 - accuracy: 0.7138 - val_loss: 0.9421 - val_accuracy: 0.6358\n",
      "Epoch 45/50\n",
      "1563/1563 [==============================] - 2s 1ms/step - loss: 0.7564 - accuracy: 0.7175 - val_loss: 0.7640 - val_accuracy: 0.7122\n",
      "Epoch 46/50\n",
      "1563/1563 [==============================] - 2s 1ms/step - loss: 0.7533 - accuracy: 0.7185 - val_loss: 0.7703 - val_accuracy: 0.7212\n",
      "Epoch 47/50\n",
      "1563/1563 [==============================] - 2s 1ms/step - loss: 0.7513 - accuracy: 0.7181 - val_loss: 0.7504 - val_accuracy: 0.7252\n",
      "Epoch 48/50\n",
      "1563/1563 [==============================] - 2s 1ms/step - loss: 0.7444 - accuracy: 0.7194 - val_loss: 0.7351 - val_accuracy: 0.7310\n",
      "Epoch 49/50\n",
      "1563/1563 [==============================] - 2s 1ms/step - loss: 0.7391 - accuracy: 0.7233 - val_loss: 0.7237 - val_accuracy: 0.7314\n",
      "Epoch 50/50\n",
      "1563/1563 [==============================] - 2s 1ms/step - loss: 0.7364 - accuracy: 0.7236 - val_loss: 0.7544 - val_accuracy: 0.7060\n"
     ]
    }
   ],
   "source": [
    "model.compile(loss=\"sparse_categorical_crossentropy\",\n",
    "              optimizer=\"sgd\",\n",
    "              metrics=[\"accuracy\"])\n",
    "history = model.fit(xtrain, ytrain, epochs=50, \n",
    "                    validation_data=(xvalid, yvalid))"
   ]
  },
  {
   "cell_type": "code",
   "execution_count": 18,
   "id": "b9968666",
   "metadata": {},
   "outputs": [
    {
     "name": "stdout",
     "output_type": "stream",
     "text": [
      "[[0. 0. 0. 0. 0. 0. 0. 0. 0. 1.]\n",
      " [0. 0. 1. 0. 0. 0. 0. 0. 0. 0.]\n",
      " [0. 1. 0. 0. 0. 0. 0. 0. 0. 0.]\n",
      " [0. 1. 0. 0. 0. 0. 0. 0. 0. 0.]\n",
      " [0. 0. 1. 0. 0. 0. 0. 0. 0. 0.]]\n"
     ]
    }
   ],
   "source": [
    "new = xtest[:5]\n",
    "predictions = model.predict(new)\n",
    "print(predictions)"
   ]
  },
  {
   "cell_type": "code",
   "execution_count": 19,
   "id": "6bd9ef2d",
   "metadata": {},
   "outputs": [
    {
     "name": "stdout",
     "output_type": "stream",
     "text": [
      "[9 2 1 1 2]\n"
     ]
    }
   ],
   "source": [
    "classes = np.argmax(predictions, axis=1)\n",
    "print(classes)"
   ]
  },
  {
   "cell_type": "code",
   "execution_count": null,
   "id": "cc37c2a9",
   "metadata": {},
   "outputs": [],
   "source": []
  }
 ],
 "metadata": {
  "kernelspec": {
   "display_name": "Python 3 (ipykernel)",
   "language": "python",
   "name": "python3"
  },
  "language_info": {
   "codemirror_mode": {
    "name": "ipython",
    "version": 3
   },
   "file_extension": ".py",
   "mimetype": "text/x-python",
   "name": "python",
   "nbconvert_exporter": "python",
   "pygments_lexer": "ipython3",
   "version": "3.8.12"
  }
 },
 "nbformat": 4,
 "nbformat_minor": 5
}
